{
  "cells": [
    {
      "attachments": {},
      "cell_type": "markdown",
      "metadata": {
        "id": "3hFoTqe5e3io"
      },
      "source": [
        "<img src='https://gazetadasemana.com.br/images/noticias/78040/30064552_altaLOGOS_.png.png' width=500>\n",
        "\n",
        "# Oversampling\n",
        "Authorship: Raul Macedo"
      ]
    },
    {
      "attachments": {},
      "cell_type": "markdown",
      "metadata": {
        "id": "sQaRhjJeeSdV"
      },
      "source": [
        "\n",
        "It has been observed, through training a model with MLPClassifier, that there is a deficiency of class 0 in the PRP data (resulting in oversampling for failure class 5 data). This scenario is likely due to the transformation of transition data into failure data.\n",
        "\n",
        "To overcome the absence of zero classes, two workarounds have been proposed and will be employed:\n",
        "\n",
        "1. Artificially create more class 0 data using the SMOTE method.\n",
        "2. Include additional normal operation data in the dataset, already present in the 3W."
      ]
    },
    {
      "attachments": {},
      "cell_type": "markdown",
      "metadata": {
        "id": "uwoeLBvYx_xm"
      },
      "source": [
        "## **1. Artificial Filling**\n",
        "The SMOTE method is going to be used to fill data artificially"
      ]
    },
    {
      "cell_type": "code",
      "execution_count": 2,
      "metadata": {
        "id": "67t-hY1ygLRF"
      },
      "outputs": [],
      "source": [
        "#General imports\n",
        "import pandas as pd\n",
        "import matplotlib.pyplot as plt\n",
        "import seaborn as sns\n",
        "import numpy as np\n",
        "from pandas import DataFrame\n",
        "from imblearn.over_sampling import SMOTE\n",
        "from collections import Counter\n",
        "from sklearn.model_selection import train_test_split\n",
        "from utils import save_csv_if_doesnt_exist\n",
        "\n"
      ]
    },
    {
      "cell_type": "code",
      "execution_count": 12,
      "metadata": {
        "id": "WtEIgHVqpr_v"
      },
      "outputs": [],
      "source": [
        "PRP_df = pd.read_csv('./PRP_treated_data.csv')"
      ]
    },
    {
      "attachments": {},
      "cell_type": "markdown",
      "metadata": {
        "id": "MdCZw7E4pxLU"
      },
      "source": [
        "# Evaluating the predominance of the \"class\""
      ]
    },
    {
      "cell_type": "code",
      "execution_count": 13,
      "metadata": {
        "colab": {
          "base_uri": "https://localhost:8080/"
        },
        "id": "U3JJDcxDp_N5",
        "outputId": "f2c882ff-f0ce-46f4-a285-4fc17d9bc936"
      },
      "outputs": [
        {
          "data": {
            "text/plain": [
              "0.0     33535\n",
              "5.0    328463\n",
              "Name: class, dtype: int64"
            ]
          },
          "execution_count": 13,
          "metadata": {},
          "output_type": "execute_result"
        }
      ],
      "source": [
        "count_classes = pd.value_counts(PRP_df['class'], sort = True).sort_index()\n",
        "count_classes"
      ]
    },
    {
      "cell_type": "code",
      "execution_count": 14,
      "metadata": {
        "id": "DtNVv7RKqST0"
      },
      "outputs": [],
      "source": [
        "X = PRP_df.drop(columns=['Unnamed: 0', 'timestamp','class','file_name'],axis=1).copy()\n",
        "Y = PRP_df['class']"
      ]
    },
    {
      "cell_type": "code",
      "execution_count": 15,
      "metadata": {
        "colab": {
          "base_uri": "https://localhost:8080/"
        },
        "id": "599KQCH-ry_M",
        "outputId": "81235900-1d1a-49fb-a465-c32fa8932d6c"
      },
      "outputs": [
        {
          "name": "stdout",
          "output_type": "stream",
          "text": [
            "Class=0, n=33535 (9.264%)\n",
            "Class=5, n=328463 (90.736%)\n"
          ]
        }
      ],
      "source": [
        "counter = Counter(Y)\n",
        "for k,v in counter.items():\n",
        "\tper = v / len(Y) * 100\n",
        "\tprint('Class=%d, n=%d (%.3f%%)' % (k, v, per))"
      ]
    },
    {
      "cell_type": "code",
      "execution_count": 16,
      "metadata": {
        "colab": {
          "base_uri": "https://localhost:8080/",
          "height": 311
        },
        "id": "ncM_PE9Xqlth",
        "outputId": "1f967b1a-f0b1-47bc-add7-fda9997c1f74"
      },
      "outputs": [
        {
          "data": {
            "image/png": "[encoded data removed]",
            "text/plain": [
              "<Figure size 300x300 with 1 Axes>"
            ]
          },
          "metadata": {},
          "output_type": "display_data"
        }
      ],
      "source": [
        "import matplotlib.pyplot as plt\n",
        "fig = plt.figure(figsize=(3,3))\n",
        "ax = sns.countplot(data=PRP_df, x=Y)\n",
        "np.bincount(Y)\n",
        "plt.xlabel(\"Class\", fontdict={'size':20})\n",
        "plt.ylabel(\"Quantidade\",fontdict={'size':20})\n",
        "plt.show()"
      ]
    },
    {
      "attachments": {},
      "cell_type": "markdown",
      "metadata": {},
      "source": [
        "In order to mitigate the imbalance in the distribution of artificial data among the test data, it is advisable to perform the relative data filling within the already subdivided sets found in this work in the directory `feature_selection_results`. Thus, the 3 training training csvs must be filled artificially."
      ]
    },
    {
      "cell_type": "code",
      "execution_count": 4,
      "metadata": {},
      "outputs": [],
      "source": [
        "train1 = pd.read_csv('./feature_selection_results/train1.csv')\n",
        "train2 = pd.read_csv('./feature_selection_results/train2.csv')\n",
        "train3 = pd.read_csv('./feature_selection_results/train3.csv')\n"
      ]
    },
    {
      "attachments": {},
      "cell_type": "markdown",
      "metadata": {},
      "source": [
        "Data profile before filling"
      ]
    },
    {
      "cell_type": "code",
      "execution_count": null,
      "metadata": {},
      "outputs": [],
      "source": [
        "# train1_zero_class = train1[train1['0'].eq(0)]\n",
        "# train1_zero_class.plot.scatter(x='Unnamed: 0',y='P-PDG',title='P-PDG - Antes preenchimento',figsize=(20,10),color='b')\n",
        "# train1_zero_class.plot.scatter(x='Unnamed: 0',y='P-TPT',title='P-TPT - Antes preenchimento',figsize=(20,10),color='r')\n",
        "# train1_zero_class.plot.scatter(x='Unnamed: 0',y='T-TPT',title='T-TPT - Antes preenchimento',figsize=(20,10),color='g')\n",
        "# train1_zero_class.plot.scatter(x='Unnamed: 0',y='P-MON-CKP',title='P-MON-CKP - Antes preenchimento',figsize=(20,10),color='y')\n",
        "# train1_zero_class.plot.scatter(x='Unnamed: 0',y='T-JUS-CKP',title='T-JUS-CKP - Antes preenchimento',figsize=(20,10),color='m')\n",
        "# train1_zero_class.plot.scatter(x='Unnamed: 0',y='P-JUS-CKGL',title='P-JUS-CKGL - Antes preenchimento',figsize=(20,10),color='orange')\n",
        "\n"
      ]
    },
    {
      "attachments": {},
      "cell_type": "markdown",
      "metadata": {},
      "source": [
        "In order to try to observe a more expressive behavior in the trainings, we will increase the quantity of class 0 vectors in each dataset by 3X."
      ]
    },
    {
      "cell_type": "code",
      "execution_count": 8,
      "metadata": {},
      "outputs": [],
      "source": [
        "def fill_artificial_data(dataset:DataFrame,multiplier = 3):\n",
        "    \"\"\"Uses SMOTE to increase data for 0 class in de given dataset by the given multiplier\n",
        "    This function is not as much generic as it could be, it works only for the context of this notebook. \n",
        "    Parameters\n",
        "    ----------\n",
        "    dataset: Pandas.DataFrame\n",
        "    Dataset to increase the quantity of vectors with 0 class\n",
        "    multiplier: int or float\n",
        "    factor to increase the size of data\"\"\"\n",
        "    X = dataset.drop(columns=['0'],axis=1).copy()\n",
        "    Y = dataset['0']\n",
        "    zero_quantity = len(dataset[dataset['0']==0.0])\n",
        "    five_quantity = len(dataset[dataset['0']==5.0])\n",
        "    sm = SMOTE(sampling_strategy={0.0:zero_quantity*multiplier,5.0:five_quantity},k_neighbors=5)\n",
        "    X,Y = sm.fit_resample(X,Y)\n",
        "    counter = Counter(Y)\n",
        "    for k,v in counter.items():\n",
        "        per = v / len(Y) * 100\n",
        "        print('Class=%d, n=%d (%.3f%%)' % (k, v, per))\n",
        "    print('\\n')\n",
        "    return pd.concat([X,Y], axis=1)"
      ]
    },
    {
      "cell_type": "code",
      "execution_count": 9,
      "metadata": {},
      "outputs": [
        {
          "name": "stdout",
          "output_type": "stream",
          "text": [
            "Class=5, n=229923 (76.552%)\n",
            "Class=0, n=70425 (23.448%)\n",
            "\n",
            "\n",
            "Class=5, n=229900 (76.533%)\n",
            "Class=0, n=70494 (23.467%)\n",
            "\n",
            "\n",
            "Class=5, n=229849 (76.490%)\n",
            "Class=0, n=70647 (23.510%)\n",
            "\n",
            "\n"
          ]
        }
      ],
      "source": [
        "train1_fill = fill_artificial_data(train1)\n",
        "train2_fill = fill_artificial_data(train2)\n",
        "train3_fill = fill_artificial_data(train3)"
      ]
    },
    {
      "cell_type": "code",
      "execution_count": 24,
      "metadata": {
        "colab": {
          "base_uri": "https://localhost:8080/",
          "height": 456
        },
        "id": "ZrVql5Lmsx4C",
        "outputId": "a83cf70b-b0fa-4b75-fd35-41b1cf014dea"
      },
      "outputs": [
        {
          "data": {
            "image/png": "[encoded data removed]",
            "text/plain": [
              "<Figure size 200x200 with 1 Axes>"
            ]
          },
          "metadata": {},
          "output_type": "display_data"
        },
        {
          "data": {
            "image/png": "[encoded data removed]",
            "text/plain": [
              "<Figure size 200x200 with 1 Axes>"
            ]
          },
          "metadata": {},
          "output_type": "display_data"
        },
        {
          "data": {
            "image/png": "[encoded data removed]",
            "text/plain": [
              "<Figure size 200x200 with 1 Axes>"
            ]
          },
          "metadata": {},
          "output_type": "display_data"
        }
      ],
      "source": [
        "fig = plt.figure(figsize=(2,2))\n",
        "ax = sns.countplot(data=train1_fill, x=train1_fill['0'])\n",
        "np.bincount(train1_fill['0'])\n",
        "plt.xlabel(\"class\",fontdict={'size':20})\n",
        "plt.ylabel(\"Quantidade\",fontdict={'size':20})\n",
        "plt.title('case 1')\n",
        "plt.show()\n",
        "##\n",
        "fig = plt.figure(figsize=(2,2))\n",
        "ax = sns.countplot(data=train2_fill, x=train2_fill['0'])\n",
        "np.bincount(train2_fill['0'])\n",
        "plt.xlabel(\"class\",fontdict={'size':20})\n",
        "plt.ylabel(\"Quantidade\",fontdict={'size':20})\n",
        "plt.title('case 2')\n",
        "plt.show()\n",
        "##\n",
        "fig = plt.figure(figsize=(2,2))\n",
        "ax = sns.countplot(data=train3_fill, x=train3_fill['0'])\n",
        "np.bincount(train3_fill['0'])\n",
        "plt.xlabel(\"class\",fontdict={'size':20})\n",
        "plt.ylabel(\"Quantidade\",fontdict={'size':20})\n",
        "plt.title('case 3')\n",
        "plt.show()"
      ]
    },
    {
      "attachments": {},
      "cell_type": "markdown",
      "metadata": {},
      "source": [
        "Data Profile after SMOTE"
      ]
    },
    {
      "cell_type": "code",
      "execution_count": null,
      "metadata": {},
      "outputs": [],
      "source": [
        "# train1_fill_zeros = train1_fill[train1_fill['0'].eq(0)]\n",
        "# # train1_fill_zeros.plot.scatter(x='Unnamed: 0', y='P-PDG - Depois Preenchimento',figsize=(20,10))\n",
        "\n",
        "# train1_fill_zeros.plot.scatter(x='Unnamed: 0',y='P-PDG',title='P-PDG - Depois Preenchimento',figsize=(20,10),color='b')\n",
        "# train1_fill_zeros.plot.scatter(x='Unnamed: 0',y='P-TPT',title='P-TPT - Depois Preenchimento',figsize=(20,10),color='r')\n",
        "# train1_fill_zeros.plot.scatter(x='Unnamed: 0',y='T-TPT',title='T-TPT - Depois Preenchimento',figsize=(20,10),color='g')\n",
        "# train1_fill_zeros.plot.scatter(x='Unnamed: 0',y='P-MON-CKP',title='P-MON-CKP - Depois Preenchimento',figsize=(20,10),color='y')\n",
        "# train1_fill_zeros.plot.scatter(x='Unnamed: 0',y='T-JUS-CKP',title='T-JUS-CKP - Depois Preenchimento',figsize=(20,10),color='m')\n",
        "# train1_fill_zeros.plot.scatter(x='Unnamed: 0',y='P-JUS-CKGL',title='P-JUS-CKGL - Depois Preenchimento',figsize=(20,10),color='orange')\n",
        "\n"
      ]
    },
    {
      "cell_type": "code",
      "execution_count": 25,
      "metadata": {
        "id": "cTJ9Le-gtVve"
      },
      "outputs": [],
      "source": [
        "\n",
        "save_csv_if_doesnt_exist(train1_fill,'./oversampling/oversampling_with_artificial_data/train_data_fill1.csv')\n",
        "save_csv_if_doesnt_exist(train2_fill,'./oversampling/oversampling_with_artificial_data/train_data_fill2.csv')\n",
        "save_csv_if_doesnt_exist(train3_fill,'./oversampling/oversampling_with_artificial_data/train_data_fill3.csv')"
      ]
    },
    {
      "attachments": {},
      "cell_type": "markdown",
      "metadata": {
        "id": "stYDy2ucyMPh"
      },
      "source": [
        "## **2. Filling with real data**\n",
        "Data from the 3W will be used.\n",
        "In this case, considering that the data is reliable, the attempt will be to increase the concentration of class 0 to at least close to the failure data.\n",
        "For this purpose, the same treatments applied to the PRP data will be applied to the real data, which include filling NaN values in the class 0 (since they correspond to normal operation) and removing the column not considered in the PRP analysis: T-JUS-CKGL."
      ]
    },
    {
      "attachments": {},
      "cell_type": "markdown",
      "metadata": {},
      "source": [
        "All normal operation real data files have an average of 17,800 vectors. Taking this into account, approximately 16 files will be required to make the data equivalent in quantity."
      ]
    },
    {
      "cell_type": "code",
      "execution_count": 26,
      "metadata": {
        "id": "lwCYh-M40wjo"
      },
      "outputs": [],
      "source": [
        "master5_df = pd.read_csv('./main_class_five_&_zero.csv')"
      ]
    },
    {
      "attachments": {},
      "cell_type": "markdown",
      "metadata": {},
      "source": [
        "Obtaining the names of the first 16 files with class 0 and removing the columns."
      ]
    },
    {
      "cell_type": "code",
      "execution_count": 27,
      "metadata": {
        "id": "7oUowJ9px7JS"
      },
      "outputs": [],
      "source": [
        "files = np.unique(master5_df[master5_df['event'].eq(0)]['file_name'])"
      ]
    },
    {
      "cell_type": "code",
      "execution_count": 28,
      "metadata": {},
      "outputs": [],
      "source": [
        "files = list(files[-16:])\n",
        "\n",
        "normal_operation_dfs = master5_df[(master5_df['event']==0) & (master5_df['file_name'].isin(files))]\n",
        "normal_operation_dfs=normal_operation_dfs.drop(columns=['T-JUS-CKGL','QGL','event'])"
      ]
    },
    {
      "cell_type": "code",
      "execution_count": 29,
      "metadata": {},
      "outputs": [
        {
          "data": {
            "text/plain": [
              "Unnamed: 0        0\n",
              "timestamp         0\n",
              "P-PDG             0\n",
              "P-TPT          7754\n",
              "T-TPT          7754\n",
              "P-MON-CKP         0\n",
              "T-JUS-CKP         0\n",
              "P-JUS-CKGL        0\n",
              "class         33535\n",
              "file_name         0\n",
              "dtype: int64"
            ]
          },
          "execution_count": 29,
          "metadata": {},
          "output_type": "execute_result"
        }
      ],
      "source": [
        "PRP_df.eq(0).sum()"
      ]
    },
    {
      "cell_type": "code",
      "execution_count": 30,
      "metadata": {},
      "outputs": [],
      "source": [
        "data_balance_with_real = pd.concat([PRP_df,normal_operation_dfs])"
      ]
    },
    {
      "cell_type": "code",
      "execution_count": 31,
      "metadata": {},
      "outputs": [],
      "source": [
        "X2 = data_balance_with_real.drop(columns=['Unnamed: 0', 'timestamp','class','file_name']).copy()\n",
        "Y2 = data_balance_with_real['class']"
      ]
    },
    {
      "cell_type": "code",
      "execution_count": 32,
      "metadata": {},
      "outputs": [
        {
          "name": "stdout",
          "output_type": "stream",
          "text": [
            "Class=0, n=316618 (49.082%)\n",
            "Class=5, n=328463 (50.918%)\n"
          ]
        }
      ],
      "source": [
        "counter = Counter(Y2)\n",
        "for k,v in counter.items():\n",
        "\tper = v / len(Y2) * 100\n",
        "\tprint('Class=%d, n=%d (%.3f%%)' % (k, v, per))"
      ]
    },
    {
      "cell_type": "code",
      "execution_count": 33,
      "metadata": {},
      "outputs": [
        {
          "data": {
            "image/png": "[encoded data removed]",
            "text/plain": [
              "<Figure size 300x300 with 1 Axes>"
            ]
          },
          "metadata": {},
          "output_type": "display_data"
        }
      ],
      "source": [
        "fig = plt.figure(figsize=(3,3))\n",
        "ax = sns.countplot(data=data_balance_with_real, x=Y2)\n",
        "np.bincount(Y2)\n",
        "plt.xlabel(\"class\",fontdict={'size':20})\n",
        "plt.ylabel(\"Quantidade\",fontdict={'size':20})\n",
        "plt.show()"
      ]
    },
    {
      "attachments": {},
      "cell_type": "markdown",
      "metadata": {},
      "source": [
        "## Splitting Real oversampled data into training and testing data"
      ]
    },
    {
      "cell_type": "code",
      "execution_count": 34,
      "metadata": {},
      "outputs": [],
      "source": [
        "\n",
        "in_1_real = data_balance_with_real.drop(columns=['Unnamed: 0','file_name','timestamp','class'],axis=1).copy()\n",
        "in_2_real = data_balance_with_real.drop(columns=['Unnamed: 0','file_name','timestamp','T-TPT', 'P-MON-CKP','class'],axis=1).copy()\n",
        "in_3_real = data_balance_with_real.drop(columns=['Unnamed: 0','file_name','timestamp','P-TPT', 'P-MON-CKP','class'],axis=1).copy()\n",
        "out_real = pd.DataFrame(data_balance_with_real['class'])"
      ]
    },
    {
      "cell_type": "code",
      "execution_count": 35,
      "metadata": {},
      "outputs": [
        {
          "data": {
            "text/plain": [
              "Unnamed: 0        16\n",
              "timestamp          0\n",
              "P-PDG              0\n",
              "P-TPT           7754\n",
              "T-TPT           7754\n",
              "P-MON-CKP          0\n",
              "T-JUS-CKP          0\n",
              "P-JUS-CKGL         0\n",
              "class         316618\n",
              "file_name          0\n",
              "dtype: int64"
            ]
          },
          "execution_count": 35,
          "metadata": {},
          "output_type": "execute_result"
        }
      ],
      "source": [
        "data_balance_with_real.eq(0).sum()"
      ]
    },
    {
      "cell_type": "code",
      "execution_count": 36,
      "metadata": {},
      "outputs": [
        {
          "name": "stdout",
          "output_type": "stream",
          "text": [
            "{'WELL-00015_20171013140047.csv'}\n",
            "{'WELL-00015_20171013140047.csv'}\n"
          ]
        }
      ],
      "source": [
        "# Files that contain P-TPT and T-TPT zero\n",
        "print(set(data_balance_with_real[data_balance_with_real['P-TPT'].eq(0)]['file_name']))\n",
        "print(set(data_balance_with_real[data_balance_with_real['T-TPT'].eq(0)]['file_name']))"
      ]
    },
    {
      "cell_type": "code",
      "execution_count": 37,
      "metadata": {},
      "outputs": [
        {
          "data": {
            "text/plain": [
              "0"
            ]
          },
          "execution_count": 37,
          "metadata": {},
          "output_type": "execute_result"
        }
      ],
      "source": [
        "# Quantity of files with P-PDG zero\n",
        "len(set(data_balance_with_real[data_balance_with_real['P-PDG'].eq(0)]['file_name']))"
      ]
    },
    {
      "cell_type": "code",
      "execution_count": 38,
      "metadata": {},
      "outputs": [
        {
          "data": {
            "text/html": [
              "<div>\n",
              "<style scoped>\n",
              "    .dataframe tbody tr th:only-of-type {\n",
              "        vertical-align: middle;\n",
              "    }\n",
              "\n",
              "    .dataframe tbody tr th {\n",
              "        vertical-align: top;\n",
              "    }\n",
              "\n",
              "    .dataframe thead th {\n",
              "        text-align: right;\n",
              "    }\n",
              "</style>\n",
              "<table border=\"1\" class=\"dataframe\">\n",
              "  <thead>\n",
              "    <tr style=\"text-align: right;\">\n",
              "      <th></th>\n",
              "      <th>file_name</th>\n",
              "      <th>size</th>\n",
              "    </tr>\n",
              "  </thead>\n",
              "  <tbody>\n",
              "    <tr>\n",
              "      <th>0</th>\n",
              "      <td>WELL-00008_20170817000146.csv</td>\n",
              "      <td>17788</td>\n",
              "    </tr>\n",
              "    <tr>\n",
              "      <th>1</th>\n",
              "      <td>WELL-00008_20170817050135.csv</td>\n",
              "      <td>17704</td>\n",
              "    </tr>\n",
              "    <tr>\n",
              "      <th>2</th>\n",
              "      <td>WELL-00008_20170817100246.csv</td>\n",
              "      <td>17502</td>\n",
              "    </tr>\n",
              "    <tr>\n",
              "      <th>3</th>\n",
              "      <td>WELL-00008_20170817150222.csv</td>\n",
              "      <td>17692</td>\n",
              "    </tr>\n",
              "    <tr>\n",
              "      <th>4</th>\n",
              "      <td>WELL-00008_20170817200123.csv</td>\n",
              "      <td>17751</td>\n",
              "    </tr>\n",
              "    <tr>\n",
              "      <th>5</th>\n",
              "      <td>WELL-00008_20170818010222.csv</td>\n",
              "      <td>17728</td>\n",
              "    </tr>\n",
              "    <tr>\n",
              "      <th>6</th>\n",
              "      <td>WELL-00008_20170818060210.csv</td>\n",
              "      <td>17680</td>\n",
              "    </tr>\n",
              "    <tr>\n",
              "      <th>7</th>\n",
              "      <td>WELL-00008_20170818110258.csv</td>\n",
              "      <td>17597</td>\n",
              "    </tr>\n",
              "    <tr>\n",
              "      <th>8</th>\n",
              "      <td>WELL-00008_20170818160123.csv</td>\n",
              "      <td>17751</td>\n",
              "    </tr>\n",
              "    <tr>\n",
              "      <th>9</th>\n",
              "      <td>WELL-00008_20170818210310.csv</td>\n",
              "      <td>17715</td>\n",
              "    </tr>\n",
              "    <tr>\n",
              "      <th>10</th>\n",
              "      <td>WELL-00008_20170819020123.csv</td>\n",
              "      <td>17822</td>\n",
              "    </tr>\n",
              "    <tr>\n",
              "      <th>11</th>\n",
              "      <td>WELL-00008_20170819070246.csv</td>\n",
              "      <td>17644</td>\n",
              "    </tr>\n",
              "    <tr>\n",
              "      <th>12</th>\n",
              "      <td>WELL-00008_20170819120210.csv</td>\n",
              "      <td>17692</td>\n",
              "    </tr>\n",
              "    <tr>\n",
              "      <th>13</th>\n",
              "      <td>WELL-00008_20170914020321.csv</td>\n",
              "      <td>17704</td>\n",
              "    </tr>\n",
              "    <tr>\n",
              "      <th>14</th>\n",
              "      <td>WELL-00008_20170914070222.csv</td>\n",
              "      <td>17680</td>\n",
              "    </tr>\n",
              "    <tr>\n",
              "      <th>15</th>\n",
              "      <td>WELL-00008_20170914120246.csv</td>\n",
              "      <td>17633</td>\n",
              "    </tr>\n",
              "    <tr>\n",
              "      <th>16</th>\n",
              "      <td>WELL-00015_20170620160349.csv</td>\n",
              "      <td>11182</td>\n",
              "    </tr>\n",
              "    <tr>\n",
              "      <th>17</th>\n",
              "      <td>WELL-00015_20171013140047.csv</td>\n",
              "      <td>7754</td>\n",
              "    </tr>\n",
              "    <tr>\n",
              "      <th>18</th>\n",
              "      <td>WELL-00016_20180405020345.csv</td>\n",
              "      <td>3311</td>\n",
              "    </tr>\n",
              "    <tr>\n",
              "      <th>19</th>\n",
              "      <td>WELL-00016_20180426142005.csv</td>\n",
              "      <td>1440</td>\n",
              "    </tr>\n",
              "    <tr>\n",
              "      <th>20</th>\n",
              "      <td>WELL-00016_20180426145108.csv</td>\n",
              "      <td>3193</td>\n",
              "    </tr>\n",
              "    <tr>\n",
              "      <th>21</th>\n",
              "      <td>WELL-00016_20180517222322.csv</td>\n",
              "      <td>11974</td>\n",
              "    </tr>\n",
              "    <tr>\n",
              "      <th>22</th>\n",
              "      <td>WELL-00017_20140314180000.csv</td>\n",
              "      <td>136538</td>\n",
              "    </tr>\n",
              "    <tr>\n",
              "      <th>23</th>\n",
              "      <td>WELL-00017_20140317151743.csv</td>\n",
              "      <td>35754</td>\n",
              "    </tr>\n",
              "    <tr>\n",
              "      <th>24</th>\n",
              "      <td>WELL-00017_20140318023141.csv</td>\n",
              "      <td>41178</td>\n",
              "    </tr>\n",
              "    <tr>\n",
              "      <th>25</th>\n",
              "      <td>WELL-00017_20140318160220.csv</td>\n",
              "      <td>35861</td>\n",
              "    </tr>\n",
              "    <tr>\n",
              "      <th>26</th>\n",
              "      <td>WELL-00017_20140319040453.csv</td>\n",
              "      <td>24908</td>\n",
              "    </tr>\n",
              "    <tr>\n",
              "      <th>27</th>\n",
              "      <td>WELL-00017_20140319141450.csv</td>\n",
              "      <td>48905</td>\n",
              "    </tr>\n",
              "  </tbody>\n",
              "</table>\n",
              "</div>"
            ],
            "text/plain": [
              "                        file_name    size\n",
              "0   WELL-00008_20170817000146.csv   17788\n",
              "1   WELL-00008_20170817050135.csv   17704\n",
              "2   WELL-00008_20170817100246.csv   17502\n",
              "3   WELL-00008_20170817150222.csv   17692\n",
              "4   WELL-00008_20170817200123.csv   17751\n",
              "5   WELL-00008_20170818010222.csv   17728\n",
              "6   WELL-00008_20170818060210.csv   17680\n",
              "7   WELL-00008_20170818110258.csv   17597\n",
              "8   WELL-00008_20170818160123.csv   17751\n",
              "9   WELL-00008_20170818210310.csv   17715\n",
              "10  WELL-00008_20170819020123.csv   17822\n",
              "11  WELL-00008_20170819070246.csv   17644\n",
              "12  WELL-00008_20170819120210.csv   17692\n",
              "13  WELL-00008_20170914020321.csv   17704\n",
              "14  WELL-00008_20170914070222.csv   17680\n",
              "15  WELL-00008_20170914120246.csv   17633\n",
              "16  WELL-00015_20170620160349.csv   11182\n",
              "17  WELL-00015_20171013140047.csv    7754\n",
              "18  WELL-00016_20180405020345.csv    3311\n",
              "19  WELL-00016_20180426142005.csv    1440\n",
              "20  WELL-00016_20180426145108.csv    3193\n",
              "21  WELL-00016_20180517222322.csv   11974\n",
              "22  WELL-00017_20140314180000.csv  136538\n",
              "23  WELL-00017_20140317151743.csv   35754\n",
              "24  WELL-00017_20140318023141.csv   41178\n",
              "25  WELL-00017_20140318160220.csv   35861\n",
              "26  WELL-00017_20140319040453.csv   24908\n",
              "27  WELL-00017_20140319141450.csv   48905"
            ]
          },
          "execution_count": 38,
          "metadata": {},
          "output_type": "execute_result"
        }
      ],
      "source": [
        "files_and_sizes = data_balance_with_real.groupby(data_balance_with_real['file_name'],as_index=False,dropna=False).size().copy()\n",
        "files_and_sizes"
      ]
    },
    {
      "cell_type": "code",
      "execution_count": 39,
      "metadata": {},
      "outputs": [
        {
          "data": {
            "text/plain": [
              "645081"
            ]
          },
          "execution_count": 39,
          "metadata": {},
          "output_type": "execute_result"
        }
      ],
      "source": [
        "len(data_balance_with_real)"
      ]
    },
    {
      "cell_type": "code",
      "execution_count": 40,
      "metadata": {},
      "outputs": [],
      "source": [
        "train_in1_real,test_in1_real,train_out1_real,test_out1_real = train_test_split(in_1_real,out_real,test_size=0.3)\n",
        "train_in2_real,test_in2_real,train_out2_real,test_out2_real = train_test_split(in_2_real,out_real,test_size=0.3)\n",
        "train_in3_real,test_in3_real,train_out3_real,test_out3_real = train_test_split(in_3_real,out_real,test_size=0.3)"
      ]
    },
    {
      "cell_type": "code",
      "execution_count": 41,
      "metadata": {},
      "outputs": [],
      "source": [
        "train_fill_real1 = pd.concat([train_in1_real,train_out1_real],axis=1)\n",
        "test_fill_real1 = pd.concat([test_in1_real,test_out1_real],axis=1)\n",
        "train_fill_real2 = pd.concat([train_in2_real,train_out2_real],axis=1)\n",
        "test_fill_real2 = pd.concat([test_in2_real,test_out2_real],axis=1)\n",
        "train_fill_real3 = pd.concat([train_in3_real,train_out3_real],axis=1)\n",
        "test_fill_real3 = pd.concat([test_in3_real,test_out3_real],axis=1)"
      ]
    },
    {
      "cell_type": "code",
      "execution_count": 42,
      "metadata": {},
      "outputs": [],
      "source": [
        "save_csv_if_doesnt_exist(train_fill_real1,'./oversampling/oversampling_with_real_data/train_real_filled_data1.csv')\n",
        "save_csv_if_doesnt_exist(test_fill_real1,'./oversampling/oversampling_with_real_data/test_real_filled_data1.csv')\n",
        "save_csv_if_doesnt_exist(train_fill_real2,'./oversampling/oversampling_with_real_data/train_real_filled_data2.csv')\n",
        "save_csv_if_doesnt_exist(test_fill_real2,'./oversampling/oversampling_with_real_data/test_real_filled_data2.csv')\n",
        "save_csv_if_doesnt_exist(train_fill_real3,'./oversampling/oversampling_with_real_data/train_real_filled_data3.csv')\n",
        "save_csv_if_doesnt_exist(test_fill_real3,'./oversampling/oversampling_with_real_data/test_real_filled_data3.csv')"
      ]
    }
  ],
  "metadata": {
    "colab": {
      "provenance": []
    },
    "kernelspec": {
      "display_name": "Python 3",
      "name": "python3"
    },
    "language_info": {
      "codemirror_mode": {
        "name": "ipython",
        "version": 3
      },
      "file_extension": ".py",
      "mimetype": "text/x-python",
      "name": "python",
      "nbconvert_exporter": "python",
      "pygments_lexer": "ipython3",
      "version": "3.10.6"
    }
  },
  "nbformat": 4,
  "nbformat_minor": 0
}
